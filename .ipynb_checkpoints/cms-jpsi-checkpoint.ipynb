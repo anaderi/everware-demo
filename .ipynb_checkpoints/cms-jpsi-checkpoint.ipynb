{
 "cells": [
  {
   "cell_type": "code",
   "execution_count": 2,
   "metadata": {
    "collapsed": false
   },
   "outputs": [
    {
     "data": {
      "text/plain": [
       "2"
      ]
     },
     "execution_count": 2,
     "metadata": {},
     "output_type": "execute_result"
    }
   ],
   "source": [
    "2"
   ]
  },
  {
   "cell_type": "markdown",
   "metadata": {},
   "source": [
    "# Measuring the J/$\\psi$ Meson Mass\n",
    "\n",
    "This notebook will walk you through a simplified measurement of the mass of the [J/$\\psi$ meson](https://en.wikipedia.org/wiki/J/psi_meson).\n",
    "\n",
    "We will use data taken by the [CMS experiment](http://cms.web.cern.ch/) hosted on [CERN](http://cern.ch)'s [opendata portal](http://opendata.cern.ch).\n",
    "\n",
    "After importing some modules and defining helper functions we download the data and then start exploring it."
   ]
  },
  {
   "cell_type": "code",
   "execution_count": 1,
   "metadata": {
    "collapsed": false,
    "slideshow": {
     "slide_type": "skip"
    }
   },
   "outputs": [
    {
     "data": {
      "application/javascript": [
       "require(['codemirror/mode/clike/clike'], function(Clike) { console.log('ROOTaaS - C++ CodeMirror module loaded'); });"
      ]
     },
     "metadata": {},
     "output_type": "display_data"
    },
    {
     "data": {
      "application/javascript": [
       "IPython.CodeCell.config_defaults.highlight_modes['magic_text/x-c++src'] = {'reg':[/^%%cpp/]};"
      ]
     },
     "metadata": {},
     "output_type": "display_data"
    },
    {
     "name": "stderr",
     "output_type": "stream",
     "text": [
      "INFO:rootpy.plotting.style:using ROOT style 'ATLAS'\n"
     ]
    },
    {
     "name": "stdout",
     "output_type": "stream",
     "text": [
      "Welcome to ROOTaaS 6.05/02\n"
     ]
    }
   ],
   "source": [
    "# Required imports and setup\n",
    "import os\n",
    "import numpy as np\n",
    "\n",
    "from rootpy.plotting import Hist, Canvas, set_style, get_style\n",
    "from rootpy import asrootpy, log\n",
    "from root_numpy import root2array, fill_hist\n",
    "\n",
    "from ROOT import (RooFit, RooRealVar, RooDataHist, RooArgList,\n",
    "                  RooVoigtian, RooAddPdf, RooPolynomial, TLatex)\n",
    "\n",
    "style = get_style('ATLAS')\n",
    "style.SetCanvasDefW(900)\n",
    "style.SetCanvasDefH(600)\n",
    "set_style('ATLAS')\n",
    "log['/ROOT.TClassTable.Add'].setLevel(log.ERROR)"
   ]
  },
  {
   "cell_type": "code",
   "execution_count": 2,
   "metadata": {
    "collapsed": true,
    "slideshow": {
     "slide_type": "fragment"
    }
   },
   "outputs": [],
   "source": [
    "def get_masses(filename, treename='events'):\n",
    "    # Get array of squared mass values selecting opposite charge events\n",
    "    expr = '(e1 + e2)**2 - ((px1 + px2)^2 + (py1 + py2)^2 + (pz1 + pz2)^2)'\n",
    "    m2 = root2array(filename, treename=treename,\n",
    "                    branches=expr, selection='q1 * q2 == -1')\n",
    "    # Remove bad events\n",
    "    m2 = m2[m2 > 0]\n",
    "    # Return the masses\n",
    "    return np.sqrt(m2)"
   ]
  },
  {
   "cell_type": "code",
   "execution_count": 3,
   "metadata": {
    "collapsed": false,
    "slideshow": {
     "slide_type": "fragment"
    }
   },
   "outputs": [],
   "source": [
    "def plot_hist(hist, logy=True, logx=True):\n",
    "    # A function to plot the mass values\n",
    "    canvas = Canvas()\n",
    "    if logy:\n",
    "        canvas.SetLogy()\n",
    "    if logx:\n",
    "        canvas.SetLogx()\n",
    "    hist.xaxis.title = 'm_{#mu#mu} [GeV]'\n",
    "    hist.yaxis.title = 'Events'\n",
    "    hist.Draw('hist')\n",
    "    return canvas"
   ]
  },
  {
   "cell_type": "markdown",
   "metadata": {
    "slideshow": {
     "slide_type": "slide"
    }
   },
   "source": [
    "## Fetch the data\n",
    "\n",
    "The data has been preprocessed and converted to a [ROOT](http://root.cern.ch) nTuple.\n",
    "\n",
    "These events were extracted from the [CMS Mu Primary Dataset](http://opendata.cern.ch/record/14). Thanks to http://openstack.cern.ch for providing a CernVM running SL5 where we could set up CMSSW 4.2.8 and to https://github.com/tpmccauley/dimuon-filter for generating the CSV from CMS AODs."
   ]
  },
  {
   "cell_type": "code",
   "execution_count": 4,
   "metadata": {
    "collapsed": false,
    "slideshow": {
     "slide_type": "fragment"
    }
   },
   "outputs": [],
   "source": [
    "if not os.path.exists('events.root'):\n",
    "    !curl https://cernbox.cern.ch/index.php/s/ZE45HERahm7DeZ6/download -o events.root"
   ]
  },
  {
   "cell_type": "markdown",
   "metadata": {
    "slideshow": {
     "slide_type": "slide"
    }
   },
   "source": [
    "## Plot the dimuon mass spectrum\n",
    "\n",
    "Calculate the dimuon invariant mass for each event and plot the full spectrum. This shows many of the well known dimuon resonances. Several of the strange features on the plot are explained by varying trigger threshold for each of the regions."
   ]
  },
  {
   "cell_type": "code",
   "execution_count": 5,
   "metadata": {
    "collapsed": false,
    "slideshow": {
     "slide_type": "fragment"
    }
   },
   "outputs": [
    {
     "data": {
      "image/png": "[encoded data removed]",
      "text/plain": [
       "Canvas('Canvas_qPpcHsJFLVvBSJ5cQhwEt8')"
      ]
     },
     "execution_count": 5,
     "metadata": {},
     "output_type": "execute_result"
    }
   ],
   "source": [
    "masses = get_masses('events.root')\n",
    "\n",
    "mass_hist = Hist(1500, 0.5, 120)\n",
    "fill_hist(mass_hist, masses)\n",
    "plot_hist(mass_hist)"
   ]
  },
  {
   "cell_type": "markdown",
   "metadata": {
    "slideshow": {
     "slide_type": "slide"
    }
   },
   "source": [
    "## Zoom in on the J/$\\psi$ resonance\n",
    "\n",
    "The whole spectrum does not show anything weird, time to zoom in on the region of the J/$\\psi$ meson."
   ]
  },
  {
   "cell_type": "code",
   "execution_count": 6,
   "metadata": {
    "collapsed": false,
    "slideshow": {
     "slide_type": "fragment"
    }
   },
   "outputs": [
    {
     "data": {
      "image/png": "[encoded data removed]",
      "text/plain": [
       "Canvas('Canvas_AughySWzwtsLXcz4a6C6TN')"
      ]
     },
     "execution_count": 6,
     "metadata": {},
     "output_type": "execute_result"
    }
   ],
   "source": [
    "mass_hist_zoomed = Hist(100, 2.8, 3.4, drawstyle='EP')\n",
    "fill_hist(mass_hist_zoomed, masses)\n",
    "plot_hist(mass_hist_zoomed, logx=False, logy=False)"
   ]
  },
  {
   "cell_type": "markdown",
   "metadata": {},
   "source": [
    "## Measure the mass\n",
    "\n",
    "The final step of the analysis is to build a fit model using [RooFit](https://root.cern.ch/roofit) and use it to extract the mass of the J/$\\psi$ meson."
   ]
  },
  {
   "cell_type": "code",
   "execution_count": 7,
   "metadata": {
    "collapsed": false,
    "slideshow": {
     "slide_type": "slide"
    }
   },
   "outputs": [
    {
     "name": "stderr",
     "output_type": "stream",
     "text": [
      "INFO:rootpy.stl:generating dictionary for deque<RooAbsArg*> ...\n",
      "INFO:rootpy.stl:generating dictionary for stack<RooAbsArg*, deque<RooAbsArg*> > ...\n"
     ]
    }
   ],
   "source": [
    "def fit(hist):\n",
    "    hmin = hist.GetXaxis().GetXmin()\n",
    "    hmax = hist.GetXaxis().GetXmax()\n",
    "\n",
    "    # Declare observable x\n",
    "    x = RooRealVar(\"x\",\"x\",hmin,hmax)\n",
    "    dh = RooDataHist(\"dh\",\"dh\",RooArgList(x),RooFit.Import(hist))\n",
    "\n",
    "    frame = x.frame(RooFit.Title(\"Z mass\"))\n",
    "    # this will show histogram data points on canvas \n",
    "    dh.plotOn(frame,RooFit.MarkerColor(2),RooFit.MarkerSize(0.9),RooFit.MarkerStyle(21))\n",
    "\n",
    "    # Signal PDF\n",
    "    mean = RooRealVar(\"mean\",\"mean\",3.1, 0, 5)\n",
    "    width = RooRealVar(\"width\",\"width\",1, 0, 100)\n",
    "    sigma = RooRealVar(\"sigma\",\"sigma\",5, 0, 100)\n",
    "    voigt = RooVoigtian(\"voigt\",\"voigt\",x,mean,width,sigma)\n",
    "    \n",
    "    # Background PDF\n",
    "    pol0 = RooPolynomial(\"pol0\",\"pol0\",x,RooArgList())\n",
    "    \n",
    "    # Combined model\n",
    "    jpsi_yield = RooRealVar(\"jpsi_yield\",\"yield of j/psi\",0.9,0,1)\n",
    "    model = RooAddPdf(\"model\",\"pol0+gauss\",RooArgList(voigt,pol0),RooArgList(jpsi_yield))\n",
    "\n",
    "    result = asrootpy(model.fitTo(dh, RooFit.Save(True)))\n",
    "\n",
    "    mass = result.final_params['mean'].value\n",
    "    bin1 = hist.FindFirstBinAbove(hist.GetMaximum()/2)\n",
    "    bin2 = hist.FindLastBinAbove(hist.GetMaximum()/2)\n",
    "    hwhm = (hist.GetBinCenter(bin2) - hist.GetBinCenter(bin1)) / 2\n",
    "    # this will show fit overlay on canvas\n",
    "    model.plotOn(frame,RooFit.LineColor(4))\n",
    "\n",
    "    # Draw all frames on a canvas\n",
    "    canvas = Canvas()\n",
    "    frame.GetXaxis().SetTitle(\"m_{#mu#mu} [GeV]\")\n",
    "    frame.GetXaxis().SetTitleOffset(1.2)\n",
    "    frame.Draw()\n",
    "    \n",
    "    # Draw the mass and error label\n",
    "    label = TLatex(0.6, 0.8, \"m_{{J/#psi}} = {0:.2f} #pm {1:.2f} GeV\".format(mass, hwhm))\n",
    "    label.SetNDC()\n",
    "    label.Draw()\n",
    "    \n",
    "    return canvas\n",
    "\n",
    "import ROOT\n",
    "_=asrootpy(ROOT.RooFitResult)"
   ]
  },
  {
   "cell_type": "code",
   "execution_count": 8,
   "metadata": {
    "collapsed": false,
    "slideshow": {
     "slide_type": "slide"
    }
   },
   "outputs": [
    {
     "data": {
      "image/png": "[encoded data removed]",
      "text/plain": [
       "Canvas('Canvas_eaGb6FuDUeecZuDP5pDNf4')"
      ]
     },
     "execution_count": 8,
     "metadata": {},
     "output_type": "execute_result"
    },
    {
     "name": "stdout",
     "output_type": "stream",
     "text": [
      "[#1] INFO:DataHandling -- RooDataHist::adjustBinning(dh): fit range of variable x expanded to nearest bin boundaries: [2.8,3.4] --> [2.8,3.4]\n",
      "[#1] INFO:NumericIntegration -- RooRealIntegral::init(voigt_Int[x]) using numeric integrator RooIntegrator1D to calculate Int(x)\n",
      "[#1] INFO:Minization -- RooMinuit::optimizeConst: activating const optimization\n",
      "[#1] INFO:NumericIntegration -- RooRealIntegral::init(voigt_Int[x]) using numeric integrator RooIntegrator1D to calculate Int(x)\n",
      "[#1] INFO:Minization --  The following expressions have been identified as constant and will be precalculated and cached: (pol0)\n",
      "[#1] INFO:Minization --  The following expressions will be evaluated in cache-and-track mode: (voigt)\n",
      " **********\n",
      " **   13 **MIGRAD        2000           1\n",
      " **********\n",
      " FIRST CALL TO USER FUNCTION AT NEW START POINT, WITH IFLAG=4.\n",
      " START MIGRAD MINIMIZATION.  STRATEGY  1.  CONVERGENCE WHEN EDM .LT. 1.00e-03\n",
      " FCN=-236203 FROM MIGRAD    STATUS=INITIATE       79 CALLS          80 TOTAL\n",
      "                     EDM= unknown      STRATEGY= 1      NO ERROR MATRIX       \n",
      "  EXT PARAMETER               CURRENT GUESS       STEP         FIRST   \n",
      "  NO.   NAME      VALUE            ERROR          SIZE      DERIVATIVE \n",
      "   1  jpsi_yield   9.00000e-01   5.00000e-02   0.00000e+00  -5.87205e+02\n",
      "   2  mean         8.59915e-01   5.00000e-01   8.52460e-01   1.10649e+02\n",
      "   3  sigma        2.05619e+00   2.50000e+00   0.00000e+00   1.10265e+04\n",
      "   4  width        1.00000e+00   5.00000e-01   0.00000e+00   2.71010e+03\n",
      "                               ERR DEF= 0.5\n",
      " MIGRAD MINIMIZATION HAS CONVERGED.\n",
      " FCN=-499021 FROM MIGRAD    STATUS=CONVERGED     654 CALLS         655 TOTAL\n",
      "                     EDM=4.52326e-07    STRATEGY= 1  ERROR MATRIX UNCERTAINTY   2.1 per cent\n",
      "  EXT PARAMETER                                   STEP         FIRST   \n",
      "  NO.   NAME      VALUE            ERROR          SIZE      DERIVATIVE \n",
      "   1  jpsi_yield   7.30934e-01   1.61929e-03  -1.58744e-06   6.55353e-02\n",
      "   2  mean         3.09195e+00   7.46992e-05  -2.60707e-07  -4.16278e-01\n",
      "   3  sigma        2.22841e-02   2.32619e-04  -1.48699e-06  -9.50308e+00\n",
      "   4  width        3.28755e-02   4.94770e-04   1.89099e-06  -3.20096e+00\n",
      "                               ERR DEF= 0.5\n",
      " EXTERNAL ERROR MATRIX.    NDIM=  25    NPAR=  4    ERR DEF=0.5\n",
      "  2.622e-06  4.547e-09 -2.466e-07  6.185e-07 \n",
      "  4.547e-09  5.580e-09  1.701e-10  3.120e-10 \n",
      " -2.466e-07  1.701e-10  5.411e-08 -1.058e-07 \n",
      "  6.185e-07  3.120e-10 -1.058e-07  2.448e-07 \n",
      " PARAMETER  CORRELATION COEFFICIENTS  \n",
      "       NO.  GLOBAL      1      2      3      4\n",
      "        1  0.78488   1.000  0.038 -0.655  0.772\n",
      "        2  0.06053   0.038  1.000  0.010  0.008\n",
      "        3  0.92333  -0.655  0.010  1.000 -0.919\n",
      "        4  0.94637   0.772  0.008 -0.919  1.000\n",
      " **********\n",
      " **   18 **HESSE        2000\n",
      " **********\n",
      " COVARIANCE MATRIX CALCULATED SUCCESSFULLY\n",
      " FCN=-499021 FROM HESSE     STATUS=OK             29 CALLS         684 TOTAL\n",
      "                     EDM=2.56515e-07    STRATEGY= 1      ERROR MATRIX ACCURATE \n",
      "  EXT PARAMETER                                INTERNAL      INTERNAL  \n",
      "  NO.   NAME      VALUE            ERROR       STEP SIZE       VALUE   \n",
      "   1  jpsi_yield   7.30934e-01   1.67135e-03   1.09005e-03   2.66149e+00\n",
      "   2  mean         3.09195e+00   7.41372e-05   1.48553e-05   2.39051e-01\n",
      "   3  sigma        2.22841e-02   2.36863e-04   2.89734e-05  -1.60065e+00\n",
      "   4  width        3.28755e-02   5.18970e-04   4.30546e-05  -1.60706e+00\n",
      "                               ERR DEF= 0.5\n",
      " EXTERNAL ERROR MATRIX.    NDIM=  25    NPAR=  4    ERR DEF=0.5\n",
      "  2.793e-06  1.782e-09 -2.637e-07  6.848e-07 \n",
      "  1.782e-09  5.496e-09  5.696e-10 -3.126e-10 \n",
      " -2.637e-07  5.696e-10  5.610e-08 -1.133e-07 \n",
      "  6.848e-07 -3.126e-10 -1.133e-07  2.693e-07 \n",
      " PARAMETER  CORRELATION COEFFICIENTS  \n",
      "       NO.  GLOBAL      1      2      3      4\n",
      "        1  0.80526   1.000  0.014 -0.666  0.789\n",
      "        2  0.06724   0.014  1.000  0.032 -0.008\n",
      "        3  0.92733  -0.666  0.032  1.000 -0.922\n",
      "        4  0.95128   0.789 -0.008 -0.922  1.000\n",
      "[#1] INFO:Minization -- RooMinuit::optimizeConst: deactivating const optimization\n",
      "[#1] INFO:NumericIntegration -- RooRealIntegral::init(voigt_Int[x]) using numeric integrator RooIntegrator1D to calculate Int(x)\n"
     ]
    }
   ],
   "source": [
    "fit(mass_hist_zoomed)"
   ]
  },
  {
   "cell_type": "code",
   "execution_count": null,
   "metadata": {
    "collapsed": true
   },
   "outputs": [],
   "source": []
  }
 ],
 "metadata": {
  "kernelspec": {
   "display_name": "Python 2",
   "language": "python",
   "name": "python2"
  },
  "language_info": {
   "codemirror_mode": {
    "name": "ipython",
    "version": 2
   },
   "file_extension": ".py",
   "mimetype": "text/x-python",
   "name": "python",
   "nbconvert_exporter": "python",
   "pygments_lexer": "ipython2",
   "version": "2.7.11"
  }
 },
 "nbformat": 4,
 "nbformat_minor": 0
}
